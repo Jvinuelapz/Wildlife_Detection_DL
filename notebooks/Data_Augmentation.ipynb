{
 "cells": [
  {
   "cell_type": "code",
   "execution_count": 1,
   "id": "2e91e509-45b6-4820-b7b2-98b9efea2e7f",
   "metadata": {
    "execution": {
     "iopub.execute_input": "2025-06-15T11:54:54.412048Z",
     "iopub.status.busy": "2025-06-15T11:54:54.410549Z",
     "iopub.status.idle": "2025-06-15T11:54:55.810026Z",
     "shell.execute_reply": "2025-06-15T11:54:55.808715Z",
     "shell.execute_reply.started": "2025-06-15T11:54:54.412048Z"
    }
   },
   "outputs": [],
   "source": [
    "import yaml\n",
    "import cv2\n",
    "import os\n",
    "import numpy as np\n",
    "import pandas as pd\n",
    "import zipfile\n",
    "import requests\n",
    "from collections import Counter"
   ]
  },
  {
   "cell_type": "markdown",
   "id": "a7ab58b0-05e2-4420-85f4-90b93ceaaf79",
   "metadata": {},
   "source": [
    "## **Data Augmentation**"
   ]
  },
  {
   "cell_type": "markdown",
   "id": "02975ae4-b34e-4894-9239-9ee150b95c36",
   "metadata": {},
   "source": [
    "### Horizontal Flipping"
   ]
  },
  {
   "cell_type": "code",
   "execution_count": 20,
   "id": "9b83f7c2-639f-44a1-b3ea-c434c93e8e8d",
   "metadata": {
    "execution": {
     "iopub.execute_input": "2025-05-01T09:53:27.419707Z",
     "iopub.status.busy": "2025-05-01T09:53:27.419707Z",
     "iopub.status.idle": "2025-05-01T09:53:27.450360Z",
     "shell.execute_reply": "2025-05-01T09:53:27.448354Z",
     "shell.execute_reply.started": "2025-05-01T09:53:27.419707Z"
    }
   },
   "outputs": [],
   "source": [
    "def Vertical_Flipping(image_files, train_images_dir, save_dir):\n",
    "    flipped_images = []  \n",
    "    saved_filenames = []  \n",
    "\n",
    "    for file_name in image_files:  # Loop through each image file\n",
    "        img_path = os.path.join(train_images_dir, file_name)  # Get full path to the image\n",
    "        img = cv2.imread(img_path)  \n",
    "        img = cv2.cvtColor(img, cv2.COLOR_BGR2RGB)  \n",
    "\n",
    "        # Flip over y-axis (horizontal flip)\n",
    "        flipped_img = cv2.flip(img, 1)  # 1 means horizontal flip\n",
    "        flipped_images.append(flipped_img)  # Save flipped image in the list\n",
    "\n",
    "        if save_dir: \n",
    "            save_path = os.path.join(save_dir, f\"flipped_{file_name}\")  \n",
    "            flipped_bgr = cv2.cvtColor(flipped_img, cv2.COLOR_RGB2BGR)  # Convert back to BGR for saving\n",
    "            cv2.imwrite(save_path, flipped_bgr)  # Save the flipped image\n",
    "\n",
    "            save_name = f\"flipped_{file_name}\"  # Name of the saved file\n",
    "            save_path = os.path.join(save_dir, save_name)  \n",
    "            cv2.imwrite(save_path, flipped_bgr)  \n",
    "            \n",
    "            saved_filenames.append(save_name)  # Add filename to the list\n",
    "\n",
    "    return flipped_images, saved_filenames  # Return flipped images and their filenames\n"
   ]
  },
  {
   "cell_type": "code",
   "execution_count": 70,
   "id": "6403b679-9d7e-4ff4-8d51-0e212caa779b",
   "metadata": {
    "execution": {
     "iopub.execute_input": "2025-04-03T09:56:38.253918Z",
     "iopub.status.busy": "2025-04-03T09:56:38.253918Z",
     "iopub.status.idle": "2025-04-03T09:56:51.320184Z",
     "shell.execute_reply": "2025-04-03T09:56:51.318853Z",
     "shell.execute_reply.started": "2025-04-03T09:56:38.253918Z"
    }
   },
   "outputs": [],
   "source": [
    "train_flipped_images_dir = \"C:\\\\Users\\\\jorge\\\\Documents\\\\CV\\\\CSWK\\\\african-wildlife\\\\train\\\\Flipped_images\"\n",
    "flipped_images, saved_Flipped_filenames = Vertical_Flipping(image_files, train_images_dir, train_flipped_images_dir)"
   ]
  },
  {
   "cell_type": "markdown",
   "id": "682d5e49-28c4-4652-a097-8abcba289ddb",
   "metadata": {},
   "source": [
    "### Brightness Adjustment"
   ]
  },
  {
   "cell_type": "code",
   "execution_count": 15,
   "id": "57b28f1f-3a2e-4f06-9185-e8054e60460f",
   "metadata": {
    "execution": {
     "iopub.execute_input": "2025-04-07T10:46:29.474957Z",
     "iopub.status.busy": "2025-04-07T10:46:29.474957Z",
     "iopub.status.idle": "2025-04-07T10:46:29.489165Z",
     "shell.execute_reply": "2025-04-07T10:46:29.488169Z",
     "shell.execute_reply.started": "2025-04-07T10:46:29.474957Z"
    }
   },
   "outputs": [],
   "source": [
    "def adjust_brightness_manual(image, brightness):\n",
    "\n",
    "    img = image.copy()\n",
    "    height, width, channels = img.shape\n",
    "\n",
    "    for i in range(height):\n",
    "        for j in range(width):\n",
    "            for k in range(channels):\n",
    "                pix = img[i, j, k] + brightness  \n",
    "                img[i, j, k] = min(max(pix, 0), 255)  # Clamp between 0 and 255\n",
    "\n",
    "    return img.astype(np.uint8)"
   ]
  },
  {
   "cell_type": "code",
   "execution_count": 31,
   "id": "c0ec26ef-d89e-4de5-9c18-a482204ca51a",
   "metadata": {
    "execution": {
     "iopub.execute_input": "2025-04-07T13:41:06.451154Z",
     "iopub.status.busy": "2025-04-07T13:41:06.450154Z",
     "iopub.status.idle": "2025-04-07T14:58:14.333915Z",
     "shell.execute_reply": "2025-04-07T14:58:14.331389Z",
     "shell.execute_reply.started": "2025-04-07T13:41:06.451154Z"
    }
   },
   "outputs": [
    {
     "name": "stdout",
     "output_type": "stream",
     "text": [
      "Imágenes con brillo ajustado guardadas correctamente.\n"
     ]
    }
   ],
   "source": [
    "train_images_dir = \"C:\\\\Users\\\\jorge\\\\Documents\\\\CV\\\\CSWK\\\\african-wildlife\\\\train\\\\images\"\n",
    "output_dir = \"C:\\\\Users\\\\jorge\\\\Documents\\\\CV\\\\CSWK\\\\african-wildlife\\\\train\\\\darker_images\"\n",
    "\n",
    "for file_name in image_files:\n",
    "    file_path = os.path.join(train_images_dir, file_name)\n",
    "    \n",
    "    # Cargar imagen\n",
    "    original_img = cv2.imread(file_path)\n",
    "    \n",
    "    if original_img is None:\n",
    "        print(f\"Error loading {file_name}\")\n",
    "        continue\n",
    "\n",
    "    brighter_img = adjust_brightness_manual(original_img, brightness=-60)\n",
    "\n",
    "    output_file_name = \"Darker_\" + file_name\n",
    "    output_path = os.path.join(output_dir, output_file_name)\n",
    "\n",
    "    cv2.imwrite(output_path, brighter_img)\n",
    "\n",
    "print(\"Imágenes con brillo ajustado guardadas correctamente.\")"
   ]
  },
  {
   "cell_type": "code",
   "execution_count": 174,
   "id": "684e0e31-d36a-473b-ac48-f34eccf29088",
   "metadata": {
    "execution": {
     "iopub.execute_input": "2025-04-03T11:23:21.165617Z",
     "iopub.status.busy": "2025-04-03T11:23:21.164445Z",
     "iopub.status.idle": "2025-04-03T11:23:21.629603Z",
     "shell.execute_reply": "2025-04-03T11:23:21.628419Z",
     "shell.execute_reply.started": "2025-04-03T11:23:21.165617Z"
    }
   },
   "outputs": [],
   "source": [
    "original_labels_dir = r\"C:\\Users\\jorge\\Documents\\CV\\CSWK\\african-wildlife\\valid\\labels\" \n",
    "new_images_dir = r\"C:\\Users\\jorge\\Documents\\CV\\CSWK\\african-wildlife\\valid\\Flipped_images\"  \n",
    "new_labels_dir = r\"C:\\Users\\jorge\\Documents\\CV\\CSWK\\african-wildlife\\valid\\Flipped_labels\"  \n",
    "\n",
    "if not os.path.exists(new_labels_dir):  \n",
    "    os.makedirs(new_labels_dir)  # Creates the folder\n",
    "\n",
    "for filename in os.listdir(new_images_dir):  # Loops through each flipped image file\n",
    "    if filename.lower().endswith(('.jpg', '.jpeg', '.png')):  \n",
    "        original_name = filename.replace(\"flipped_\", \"\")  # Removes 'flipped_' prefix to find the original image name\n",
    "        label_name = os.path.splitext(original_name)[0] + \".txt\"  # Get the corresponding original label filename\n",
    "\n",
    "        original_label_path = os.path.join(original_labels_dir, label_name)  # Full path to original label\n",
    "        new_label_name = os.path.splitext(filename)[0] + \".txt\"  # New label filename for flipped image\n",
    "        new_label_path = os.path.join(new_labels_dir, new_label_name)  # Full path to save new label\n",
    "\n",
    "        if os.path.exists(original_label_path):  # Check if the original label file exists\n",
    "            shutil.copyfile(original_label_path, new_label_path)  # Copy the original label to the new label path\n",
    "        else:\n",
    "            print(f\"No se encontró label para: {filename}\")  # Warning if label not found"
   ]
  },
  {
   "cell_type": "code",
   "execution_count": 37,
   "id": "524df474-88f7-43f9-9732-bb8ba5b0a9ce",
   "metadata": {
    "execution": {
     "iopub.execute_input": "2025-04-07T15:07:35.484128Z",
     "iopub.status.busy": "2025-04-07T15:07:35.483125Z",
     "iopub.status.idle": "2025-04-07T15:07:42.859286Z",
     "shell.execute_reply": "2025-04-07T15:07:42.857309Z",
     "shell.execute_reply.started": "2025-04-07T15:07:35.484128Z"
    }
   },
   "outputs": [
    {
     "name": "stdout",
     "output_type": "stream",
     "text": [
      "Labels reflejadas creadas para imágenes flippeadas.\n"
     ]
    }
   ],
   "source": [
    "original_labels_dir = \"C:\\\\Users\\\\jorge\\\\Documents\\\\CV\\\\CSWK\\\\african-wildlife\\\\train\\\\labels\"  \n",
    "flipped_labels_dir = \"C:\\\\Users\\\\jorge\\\\Documents\\\\CV\\\\CSWK\\\\african-wildlife\\\\train\\\\labels_flipped\"  \n",
    "flipped_images_dir = \"C:\\\\Users\\\\jorge\\\\Documents\\\\CV\\\\CSWK\\\\african-wildlife\\\\train\\\\Flipped_images\" \n",
    "\n",
    "os.makedirs(flipped_labels_dir, exist_ok=True)  # Create output folder if it doesn't exist\n",
    "\n",
    "# Get list of flipped images\n",
    "image_files = [f for f in os.listdir(flipped_images_dir) if f.lower().endswith(('.jpg', '.jpeg', '.png'))]\n",
    "\n",
    "for image_file in image_files:\n",
    "    base_name = os.path.splitext(image_file)[0]  \n",
    "    original_name = base_name.replace(\"flipped_\", \"\")  # Gets original name → e.g., 1 (4)\n",
    "    label_file = original_name + \".txt\"  \n",
    "    original_label_path = os.path.join(original_labels_dir, label_file)  \n",
    "\n",
    "    if not os.path.exists(original_label_path):  # Checks if the label exists\n",
    "        print(f\"Label original no encontrada para: {image_file}\")  \n",
    "        continue \n",
    "\n",
    "    # Read and process the original label\n",
    "    with open(original_label_path, \"r\") as f:\n",
    "        lines = f.readlines()\n",
    "\n",
    "    flipped_lines = [] \n",
    "    for line in lines:\n",
    "        parts = line.strip().split()  # Split the line into parts\n",
    "        if len(parts) != 5:  # Skip badly formatted lines\n",
    "            continue\n",
    "\n",
    "        class_id, x_center, y_center, width, height = parts  # Unpack YOLO label values\n",
    "        flipped_x = 1.0 - float(x_center)  # Flip x_center horizontally\n",
    "        flipped_line = f\"{class_id} {flipped_x:.6f} {y_center} {width} {height}\\n\"  # Format new label line\n",
    "        flipped_lines.append(flipped_line)  # Add to list\n",
    "\n",
    "    # Save the new flipped label with the same name as the flipped image\n",
    "    flipped_label_path = os.path.join(flipped_labels_dir, base_name + \".txt\")\n",
    "    with open(flipped_label_path, \"w\") as f:\n",
    "        f.writelines(flipped_lines)\n",
    "\n",
    "print(\"Labels reflejadas creadas para imágenes flippeadas.\")"
   ]
  },
  {
   "cell_type": "code",
   "execution_count": 39,
   "id": "b481a5e3-0595-4d2c-bbb3-1a1e32936e92",
   "metadata": {
    "execution": {
     "iopub.execute_input": "2025-04-07T15:12:01.884256Z",
     "iopub.status.busy": "2025-04-07T15:12:01.884256Z",
     "iopub.status.idle": "2025-04-07T15:12:04.575290Z",
     "shell.execute_reply": "2025-04-07T15:12:04.574285Z",
     "shell.execute_reply.started": "2025-04-07T15:12:01.884256Z"
    }
   },
   "outputs": [
    {
     "name": "stdout",
     "output_type": "stream",
     "text": [
      "Labels copiados y renombrados para imágenes más brillantes y más oscuras.\n"
     ]
    }
   ],
   "source": [
    "brighter_labels_dir = \"C:\\\\Users\\\\jorge\\\\Documents\\\\CV\\\\CSWK\\\\african-wildlife\\\\train\\\\brighter_labels\"  \n",
    "darker_labels_dir = \"C:\\\\Users\\\\jorge\\\\Documents\\\\CV\\\\CSWK\\\\african-wildlife\\\\train\\\\darker_labels\"\n",
    "\n",
    "# Create folders if they don't exist\n",
    "os.makedirs(brighter_labels_dir, exist_ok=True)  \n",
    "os.makedirs(darker_labels_dir, exist_ok=True) \n",
    "\n",
    "# Process each label file\n",
    "for label_file in os.listdir(original_labels_dir):  # Loops through label files\n",
    "    if not label_file.endswith(\".txt\"):  # Skip non-txt files\n",
    "        continue\n",
    "\n",
    "    original_path = os.path.join(original_labels_dir, label_file)  # Full path to original label\n",
    "\n",
    "    brighter_name = \"Brighter_\" + label_file  # New filename for brighter image label\n",
    "    darker_name = \"Darker_\" + label_file  # New filename for darker image label\n",
    "\n",
    "    brighter_path = os.path.join(brighter_labels_dir, brighter_name)  # Destination path for brighter label\n",
    "    darker_path = os.path.join(darker_labels_dir, darker_name)  # Destination path for darker label\n",
    "\n",
    "    shutil.copyfile(original_path, brighter_path)  # Copy original label to brighter label folder\n",
    "    shutil.copyfile(original_path, darker_path)  # Copy original label to darker label folder\n",
    "\n",
    "print(\"Labels copiados y renombrados para imágenes más brillantes y más oscuras.\")  # Confirmation message\n"
   ]
  }
 ],
 "metadata": {
  "kernelspec": {
   "display_name": "Python 3 (ipykernel)",
   "language": "python",
   "name": "python3"
  },
  "language_info": {
   "codemirror_mode": {
    "name": "ipython",
    "version": 3
   },
   "file_extension": ".py",
   "mimetype": "text/x-python",
   "name": "python",
   "nbconvert_exporter": "python",
   "pygments_lexer": "ipython3",
   "version": "3.9.20"
  }
 },
 "nbformat": 4,
 "nbformat_minor": 5
}
